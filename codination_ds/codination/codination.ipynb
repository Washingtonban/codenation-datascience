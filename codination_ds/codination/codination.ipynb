{
 "cells": [
  {
   "cell_type": "code",
   "execution_count": 1,
   "metadata": {
    "pycharm": {
     "name": "#%%\n"
    }
   },
   "outputs": [
    {
     "ename": "ModuleNotFoundError",
     "evalue": "No module named 'pandas'",
     "output_type": "error",
     "traceback": [
      "\u001B[0;31m---------------------------------------------------------------------------\u001B[0m",
      "\u001B[0;31mModuleNotFoundError\u001B[0m                       Traceback (most recent call last)",
      "\u001B[0;32m<ipython-input-1-f1f079931998>\u001B[0m in \u001B[0;36m<module>\u001B[0;34m\u001B[0m\n\u001B[0;32m----> 1\u001B[0;31m \u001B[0;32mimport\u001B[0m \u001B[0mpandas\u001B[0m \u001B[0;32mas\u001B[0m \u001B[0mpd\u001B[0m\u001B[0;34m\u001B[0m\u001B[0;34m\u001B[0m\u001B[0m\n\u001B[0m\u001B[1;32m      2\u001B[0m \u001B[0;32mimport\u001B[0m \u001B[0mnumpay\u001B[0m \u001B[0;32mas\u001B[0m \u001B[0mnp\u001B[0m\u001B[0;34m\u001B[0m\u001B[0;34m\u001B[0m\u001B[0m\n\u001B[1;32m      3\u001B[0m \u001B[0;34m\u001B[0m\u001B[0m\n\u001B[1;32m      4\u001B[0m \u001B[0;34m\u001B[0m\u001B[0m\n",
      "\u001B[0;31mModuleNotFoundError\u001B[0m: No module named 'pandas'"
     ]
    }
   ],
   "source": [
    "import pandas as pd\n",
    "import numpay as np\n"
   ]
  },
  {
   "cell_type": "code",
   "execution_count": 2,
   "metadata": {
    "pycharm": {
     "is_executing": false,
     "name": "#%%\n"
    }
   },
   "outputs": [],
   "source": [
    "df = pd.read_csv('train.csv')"
   ]
  },
  {
   "cell_type": "code",
   "execution_count": 3,
   "metadata": {
    "pycharm": {
     "is_executing": false,
     "name": "#%%\n"
    }
   },
   "outputs": [
    {
     "data": {
      "text/plain": "       Unnamed: 0                              NU_INSCRICAO  NU_ANO  \\\n0               1  ed50e8aaa58e7a806c337585efee9ca41f1eb1ad    2016   \n1               2  2c3acac4b33ec2b195d77e7c04a2d75727fad723    2016   \n2               3  f4545f8ccb9ff5c8aad7d32951b3f251a26e6568    2016   \n3               4  3d6ec248fef899c414e77f82d5c6d2bffbeaf7fe    2016   \n4               5  bf896ac8d3ecadd6dba1dfbf50110afcbf5d3268    2016   \n...           ...                                       ...     ...   \n13725        4582  aadf671ef8c1c6efa42e69432093ab83c17a52ac    2016   \n13726        4583  461f7ef2753d9d5fa0b054930d6b0e0eec318e81    2016   \n13727        4584  5354503700ecf2388f68990435390b6e1ad454ee    2016   \n13728        4585  c7a9e94a42bd76b7978f13c013a61702e36cc42c    2016   \n13729        4586  0af8939c470a600b30bdaa80375ee0db848b0e35    2016   \n\n       CO_MUNICIPIO_RESIDENCIA NO_MUNICIPIO_RESIDENCIA  CO_UF_RESIDENCIA  \\\n0                      4314902            Porto Alegre                43   \n1                      2304707                  Granja                23   \n2                      2304400               Fortaleza                23   \n3                      3304557          Rio de Janeiro                33   \n4                      1302603                  Manaus                13   \n...                        ...                     ...               ...   \n13725                  3502903      Araçoiaba da Serra                35   \n13726                  2613800      São Vicente Ferrer                26   \n13727                  4322186          Tupanci do Sul                43   \n13728                  3303203               Nilópolis                33   \n13729                  4100400     Almirante Tamandaré                41   \n\n      SG_UF_RESIDENCIA  NU_IDADE TP_SEXO  TP_ESTADO_CIVIL  ...  Q041  Q042  \\\n0                   RS        24       M              0.0  ...   5.0     A   \n1                   CE        17       F              0.0  ...   NaN     A   \n2                   CE        21       F              0.0  ...   NaN     A   \n3                   RJ        25       F              0.0  ...   5.0     C   \n4                   AM        28       M              0.0  ...   NaN     A   \n...                ...       ...     ...              ...  ...   ...   ...   \n13725               SP        20       M              0.0  ...   NaN     A   \n13726               PE        33       F              0.0  ...   NaN     A   \n13727               RS        15       F              0.0  ...   NaN     A   \n13728               RJ        36       M              1.0  ...   5.0     A   \n13729               PR        17       M              0.0  ...   NaN     A   \n\n       Q043 Q044  Q045 Q046  Q047  Q048  Q049  Q050  \n0         A    A     A    A     A     A     B     D  \n1         A    C     A    B     A     A     C     A  \n2         A    A     A    C     A     A     B     A  \n3         A    A     A    A     D     A     A     A  \n4         A    A     A    A     A     A     A     A  \n...     ...  ...   ...  ...   ...   ...   ...   ...  \n13725     A    A     A    A     A     A     A     A  \n13726     A    B     B    A     A     A     A     A  \n13727     A    A     A    C     A     A     A     A  \n13728     A    A     A    D     A     A     A     D  \n13729     A    A     A    B     A     A     A     A  \n\n[13730 rows x 167 columns]",
      "text/html": "<div>\n<style scoped>\n    .dataframe tbody tr th:only-of-type {\n        vertical-align: middle;\n    }\n\n    .dataframe tbody tr th {\n        vertical-align: top;\n    }\n\n    .dataframe thead th {\n        text-align: right;\n    }\n</style>\n<table border=\"1\" class=\"dataframe\">\n  <thead>\n    <tr style=\"text-align: right;\">\n      <th></th>\n      <th>Unnamed: 0</th>\n      <th>NU_INSCRICAO</th>\n      <th>NU_ANO</th>\n      <th>CO_MUNICIPIO_RESIDENCIA</th>\n      <th>NO_MUNICIPIO_RESIDENCIA</th>\n      <th>CO_UF_RESIDENCIA</th>\n      <th>SG_UF_RESIDENCIA</th>\n      <th>NU_IDADE</th>\n      <th>TP_SEXO</th>\n      <th>TP_ESTADO_CIVIL</th>\n      <th>...</th>\n      <th>Q041</th>\n      <th>Q042</th>\n      <th>Q043</th>\n      <th>Q044</th>\n      <th>Q045</th>\n      <th>Q046</th>\n      <th>Q047</th>\n      <th>Q048</th>\n      <th>Q049</th>\n      <th>Q050</th>\n    </tr>\n  </thead>\n  <tbody>\n    <tr>\n      <th>0</th>\n      <td>1</td>\n      <td>ed50e8aaa58e7a806c337585efee9ca41f1eb1ad</td>\n      <td>2016</td>\n      <td>4314902</td>\n      <td>Porto Alegre</td>\n      <td>43</td>\n      <td>RS</td>\n      <td>24</td>\n      <td>M</td>\n      <td>0.0</td>\n      <td>...</td>\n      <td>5.0</td>\n      <td>A</td>\n      <td>A</td>\n      <td>A</td>\n      <td>A</td>\n      <td>A</td>\n      <td>A</td>\n      <td>A</td>\n      <td>B</td>\n      <td>D</td>\n    </tr>\n    <tr>\n      <th>1</th>\n      <td>2</td>\n      <td>2c3acac4b33ec2b195d77e7c04a2d75727fad723</td>\n      <td>2016</td>\n      <td>2304707</td>\n      <td>Granja</td>\n      <td>23</td>\n      <td>CE</td>\n      <td>17</td>\n      <td>F</td>\n      <td>0.0</td>\n      <td>...</td>\n      <td>NaN</td>\n      <td>A</td>\n      <td>A</td>\n      <td>C</td>\n      <td>A</td>\n      <td>B</td>\n      <td>A</td>\n      <td>A</td>\n      <td>C</td>\n      <td>A</td>\n    </tr>\n    <tr>\n      <th>2</th>\n      <td>3</td>\n      <td>f4545f8ccb9ff5c8aad7d32951b3f251a26e6568</td>\n      <td>2016</td>\n      <td>2304400</td>\n      <td>Fortaleza</td>\n      <td>23</td>\n      <td>CE</td>\n      <td>21</td>\n      <td>F</td>\n      <td>0.0</td>\n      <td>...</td>\n      <td>NaN</td>\n      <td>A</td>\n      <td>A</td>\n      <td>A</td>\n      <td>A</td>\n      <td>C</td>\n      <td>A</td>\n      <td>A</td>\n      <td>B</td>\n      <td>A</td>\n    </tr>\n    <tr>\n      <th>3</th>\n      <td>4</td>\n      <td>3d6ec248fef899c414e77f82d5c6d2bffbeaf7fe</td>\n      <td>2016</td>\n      <td>3304557</td>\n      <td>Rio de Janeiro</td>\n      <td>33</td>\n      <td>RJ</td>\n      <td>25</td>\n      <td>F</td>\n      <td>0.0</td>\n      <td>...</td>\n      <td>5.0</td>\n      <td>C</td>\n      <td>A</td>\n      <td>A</td>\n      <td>A</td>\n      <td>A</td>\n      <td>D</td>\n      <td>A</td>\n      <td>A</td>\n      <td>A</td>\n    </tr>\n    <tr>\n      <th>4</th>\n      <td>5</td>\n      <td>bf896ac8d3ecadd6dba1dfbf50110afcbf5d3268</td>\n      <td>2016</td>\n      <td>1302603</td>\n      <td>Manaus</td>\n      <td>13</td>\n      <td>AM</td>\n      <td>28</td>\n      <td>M</td>\n      <td>0.0</td>\n      <td>...</td>\n      <td>NaN</td>\n      <td>A</td>\n      <td>A</td>\n      <td>A</td>\n      <td>A</td>\n      <td>A</td>\n      <td>A</td>\n      <td>A</td>\n      <td>A</td>\n      <td>A</td>\n    </tr>\n    <tr>\n      <th>...</th>\n      <td>...</td>\n      <td>...</td>\n      <td>...</td>\n      <td>...</td>\n      <td>...</td>\n      <td>...</td>\n      <td>...</td>\n      <td>...</td>\n      <td>...</td>\n      <td>...</td>\n      <td>...</td>\n      <td>...</td>\n      <td>...</td>\n      <td>...</td>\n      <td>...</td>\n      <td>...</td>\n      <td>...</td>\n      <td>...</td>\n      <td>...</td>\n      <td>...</td>\n      <td>...</td>\n    </tr>\n    <tr>\n      <th>13725</th>\n      <td>4582</td>\n      <td>aadf671ef8c1c6efa42e69432093ab83c17a52ac</td>\n      <td>2016</td>\n      <td>3502903</td>\n      <td>Araçoiaba da Serra</td>\n      <td>35</td>\n      <td>SP</td>\n      <td>20</td>\n      <td>M</td>\n      <td>0.0</td>\n      <td>...</td>\n      <td>NaN</td>\n      <td>A</td>\n      <td>A</td>\n      <td>A</td>\n      <td>A</td>\n      <td>A</td>\n      <td>A</td>\n      <td>A</td>\n      <td>A</td>\n      <td>A</td>\n    </tr>\n    <tr>\n      <th>13726</th>\n      <td>4583</td>\n      <td>461f7ef2753d9d5fa0b054930d6b0e0eec318e81</td>\n      <td>2016</td>\n      <td>2613800</td>\n      <td>São Vicente Ferrer</td>\n      <td>26</td>\n      <td>PE</td>\n      <td>33</td>\n      <td>F</td>\n      <td>0.0</td>\n      <td>...</td>\n      <td>NaN</td>\n      <td>A</td>\n      <td>A</td>\n      <td>B</td>\n      <td>B</td>\n      <td>A</td>\n      <td>A</td>\n      <td>A</td>\n      <td>A</td>\n      <td>A</td>\n    </tr>\n    <tr>\n      <th>13727</th>\n      <td>4584</td>\n      <td>5354503700ecf2388f68990435390b6e1ad454ee</td>\n      <td>2016</td>\n      <td>4322186</td>\n      <td>Tupanci do Sul</td>\n      <td>43</td>\n      <td>RS</td>\n      <td>15</td>\n      <td>F</td>\n      <td>0.0</td>\n      <td>...</td>\n      <td>NaN</td>\n      <td>A</td>\n      <td>A</td>\n      <td>A</td>\n      <td>A</td>\n      <td>C</td>\n      <td>A</td>\n      <td>A</td>\n      <td>A</td>\n      <td>A</td>\n    </tr>\n    <tr>\n      <th>13728</th>\n      <td>4585</td>\n      <td>c7a9e94a42bd76b7978f13c013a61702e36cc42c</td>\n      <td>2016</td>\n      <td>3303203</td>\n      <td>Nilópolis</td>\n      <td>33</td>\n      <td>RJ</td>\n      <td>36</td>\n      <td>M</td>\n      <td>1.0</td>\n      <td>...</td>\n      <td>5.0</td>\n      <td>A</td>\n      <td>A</td>\n      <td>A</td>\n      <td>A</td>\n      <td>D</td>\n      <td>A</td>\n      <td>A</td>\n      <td>A</td>\n      <td>D</td>\n    </tr>\n    <tr>\n      <th>13729</th>\n      <td>4586</td>\n      <td>0af8939c470a600b30bdaa80375ee0db848b0e35</td>\n      <td>2016</td>\n      <td>4100400</td>\n      <td>Almirante Tamandaré</td>\n      <td>41</td>\n      <td>PR</td>\n      <td>17</td>\n      <td>M</td>\n      <td>0.0</td>\n      <td>...</td>\n      <td>NaN</td>\n      <td>A</td>\n      <td>A</td>\n      <td>A</td>\n      <td>A</td>\n      <td>B</td>\n      <td>A</td>\n      <td>A</td>\n      <td>A</td>\n      <td>A</td>\n    </tr>\n  </tbody>\n</table>\n<p>13730 rows × 167 columns</p>\n</div>"
     },
     "metadata": {},
     "output_type": "execute_result",
     "execution_count": 3
    }
   ],
   "source": [
    "df"
   ]
  },
  {
   "cell_type": "code",
   "execution_count": 4,
   "metadata": {
    "pycharm": {
     "is_executing": false,
     "name": "#%%\n"
    }
   },
   "outputs": [],
   "source": [
    "df_enem = df[['NU_INSCRICAO','NU_NOTA_CN', 'NU_NOTA_CH', 'NU_NOTA_LC', 'NU_NOTA_REDACAO','NU_NOTA_MT']]"
   ]
  },
  {
   "cell_type": "code",
   "execution_count": 5,
   "metadata": {
    "pycharm": {
     "is_executing": false,
     "name": "#%%\n"
    }
   },
   "outputs": [],
   "source": [
    "df_enem = df_enem.fillna(0)"
   ]
  },
  {
   "cell_type": "code",
   "execution_count": 6,
   "metadata": {
    "pycharm": {
     "is_executing": false,
     "name": "#%%\n"
    }
   },
   "outputs": [
    {
     "data": {
      "text/plain": "                                   NU_INSCRICAO  NU_NOTA_CN  NU_NOTA_CH  \\\n0      ed50e8aaa58e7a806c337585efee9ca41f1eb1ad       436.3       495.4   \n1      2c3acac4b33ec2b195d77e7c04a2d75727fad723       474.5       544.1   \n2      f4545f8ccb9ff5c8aad7d32951b3f251a26e6568         0.0         0.0   \n3      3d6ec248fef899c414e77f82d5c6d2bffbeaf7fe         0.0         0.0   \n4      bf896ac8d3ecadd6dba1dfbf50110afcbf5d3268         0.0         0.0   \n...                                         ...         ...         ...   \n13725  aadf671ef8c1c6efa42e69432093ab83c17a52ac       438.2       419.7   \n13726  461f7ef2753d9d5fa0b054930d6b0e0eec318e81       423.8       557.9   \n13727  5354503700ecf2388f68990435390b6e1ad454ee       460.5       528.9   \n13728  c7a9e94a42bd76b7978f13c013a61702e36cc42c       422.5       621.7   \n13729  0af8939c470a600b30bdaa80375ee0db848b0e35       488.7       575.3   \n\n       NU_NOTA_LC  NU_NOTA_REDACAO  NU_NOTA_MT  \n0           581.2            520.0       399.4  \n1           599.0            580.0       459.8  \n2             0.0              0.0         0.0  \n3             0.0              0.0         0.0  \n4             0.0              0.0         0.0  \n...           ...              ...         ...  \n13725       394.5            440.0       403.2  \n13726       533.0            560.0       452.4  \n13727       569.3            600.0       398.0  \n13728       569.0            460.0       386.6  \n13729       565.9            520.0       428.9  \n\n[13730 rows x 6 columns]",
      "text/html": "<div>\n<style scoped>\n    .dataframe tbody tr th:only-of-type {\n        vertical-align: middle;\n    }\n\n    .dataframe tbody tr th {\n        vertical-align: top;\n    }\n\n    .dataframe thead th {\n        text-align: right;\n    }\n</style>\n<table border=\"1\" class=\"dataframe\">\n  <thead>\n    <tr style=\"text-align: right;\">\n      <th></th>\n      <th>NU_INSCRICAO</th>\n      <th>NU_NOTA_CN</th>\n      <th>NU_NOTA_CH</th>\n      <th>NU_NOTA_LC</th>\n      <th>NU_NOTA_REDACAO</th>\n      <th>NU_NOTA_MT</th>\n    </tr>\n  </thead>\n  <tbody>\n    <tr>\n      <th>0</th>\n      <td>ed50e8aaa58e7a806c337585efee9ca41f1eb1ad</td>\n      <td>436.3</td>\n      <td>495.4</td>\n      <td>581.2</td>\n      <td>520.0</td>\n      <td>399.4</td>\n    </tr>\n    <tr>\n      <th>1</th>\n      <td>2c3acac4b33ec2b195d77e7c04a2d75727fad723</td>\n      <td>474.5</td>\n      <td>544.1</td>\n      <td>599.0</td>\n      <td>580.0</td>\n      <td>459.8</td>\n    </tr>\n    <tr>\n      <th>2</th>\n      <td>f4545f8ccb9ff5c8aad7d32951b3f251a26e6568</td>\n      <td>0.0</td>\n      <td>0.0</td>\n      <td>0.0</td>\n      <td>0.0</td>\n      <td>0.0</td>\n    </tr>\n    <tr>\n      <th>3</th>\n      <td>3d6ec248fef899c414e77f82d5c6d2bffbeaf7fe</td>\n      <td>0.0</td>\n      <td>0.0</td>\n      <td>0.0</td>\n      <td>0.0</td>\n      <td>0.0</td>\n    </tr>\n    <tr>\n      <th>4</th>\n      <td>bf896ac8d3ecadd6dba1dfbf50110afcbf5d3268</td>\n      <td>0.0</td>\n      <td>0.0</td>\n      <td>0.0</td>\n      <td>0.0</td>\n      <td>0.0</td>\n    </tr>\n    <tr>\n      <th>...</th>\n      <td>...</td>\n      <td>...</td>\n      <td>...</td>\n      <td>...</td>\n      <td>...</td>\n      <td>...</td>\n    </tr>\n    <tr>\n      <th>13725</th>\n      <td>aadf671ef8c1c6efa42e69432093ab83c17a52ac</td>\n      <td>438.2</td>\n      <td>419.7</td>\n      <td>394.5</td>\n      <td>440.0</td>\n      <td>403.2</td>\n    </tr>\n    <tr>\n      <th>13726</th>\n      <td>461f7ef2753d9d5fa0b054930d6b0e0eec318e81</td>\n      <td>423.8</td>\n      <td>557.9</td>\n      <td>533.0</td>\n      <td>560.0</td>\n      <td>452.4</td>\n    </tr>\n    <tr>\n      <th>13727</th>\n      <td>5354503700ecf2388f68990435390b6e1ad454ee</td>\n      <td>460.5</td>\n      <td>528.9</td>\n      <td>569.3</td>\n      <td>600.0</td>\n      <td>398.0</td>\n    </tr>\n    <tr>\n      <th>13728</th>\n      <td>c7a9e94a42bd76b7978f13c013a61702e36cc42c</td>\n      <td>422.5</td>\n      <td>621.7</td>\n      <td>569.0</td>\n      <td>460.0</td>\n      <td>386.6</td>\n    </tr>\n    <tr>\n      <th>13729</th>\n      <td>0af8939c470a600b30bdaa80375ee0db848b0e35</td>\n      <td>488.7</td>\n      <td>575.3</td>\n      <td>565.9</td>\n      <td>520.0</td>\n      <td>428.9</td>\n    </tr>\n  </tbody>\n</table>\n<p>13730 rows × 6 columns</p>\n</div>"
     },
     "metadata": {},
     "output_type": "execute_result",
     "execution_count": 6
    }
   ],
   "source": [
    "df_enem"
   ]
  },
  {
   "cell_type": "code",
   "execution_count": 7,
   "metadata": {
    "pycharm": {
     "is_executing": false,
     "name": "#%%\n"
    }
   },
   "outputs": [],
   "source": [
    "peso_mt = 3\n",
    "peso_cn = 2\n",
    "peso_lc = 1.5\n",
    "peso_ch = 1\n",
    "peso_redacao = 3\n"
   ]
  },
  {
   "cell_type": "code",
   "execution_count": 8,
   "outputs": [],
   "source": [
    "media_ponderada = ((df_enem.NU_NOTA_CN * peso_cn) + (df_enem.NU_NOTA_CH * peso_ch) + (df_enem.NU_NOTA_LC * peso_lc) + \\\n",
    "(df_enem.NU_NOTA_REDACAO * peso_redacao)) / (peso_ch + peso_cn + peso_lc + peso_redacao) "
   ],
   "metadata": {
    "collapsed": false,
    "pycharm": {
     "name": "#%%\n",
     "is_executing": false
    }
   }
  },
  {
   "cell_type": "code",
   "execution_count": 9,
   "outputs": [],
   "source": [
    "#incluindo a nova coluna\n",
    "df_enem['NU_MEDIA_PONDERADA'] = media_ponderada"
   ],
   "metadata": {
    "collapsed": false,
    "pycharm": {
     "name": "#%%\n",
     "is_executing": false
    }
   }
  },
  {
   "cell_type": "code",
   "execution_count": 10,
   "outputs": [
    {
     "data": {
      "text/plain": "                                   NU_INSCRICAO  NU_NOTA_CN  NU_NOTA_CH  \\\n0      ed50e8aaa58e7a806c337585efee9ca41f1eb1ad       436.3       495.4   \n1      2c3acac4b33ec2b195d77e7c04a2d75727fad723       474.5       544.1   \n2      f4545f8ccb9ff5c8aad7d32951b3f251a26e6568         0.0         0.0   \n3      3d6ec248fef899c414e77f82d5c6d2bffbeaf7fe         0.0         0.0   \n4      bf896ac8d3ecadd6dba1dfbf50110afcbf5d3268         0.0         0.0   \n...                                         ...         ...         ...   \n13725  aadf671ef8c1c6efa42e69432093ab83c17a52ac       438.2       419.7   \n13726  461f7ef2753d9d5fa0b054930d6b0e0eec318e81       423.8       557.9   \n13727  5354503700ecf2388f68990435390b6e1ad454ee       460.5       528.9   \n13728  c7a9e94a42bd76b7978f13c013a61702e36cc42c       422.5       621.7   \n13729  0af8939c470a600b30bdaa80375ee0db848b0e35       488.7       575.3   \n\n       NU_NOTA_LC  NU_NOTA_REDACAO  NU_NOTA_MT  NU_MEDIA_PONDERADA  \n0           581.2            520.0       399.4          506.640000  \n1           599.0            580.0       459.8          550.880000  \n2             0.0              0.0         0.0            0.000000  \n3             0.0              0.0         0.0            0.000000  \n4             0.0              0.0         0.0            0.000000  \n...           ...              ...         ...                 ...  \n13725       394.5            440.0       403.2          427.713333  \n13726       533.0            560.0       452.4          518.000000  \n13727       569.3            600.0       398.0          547.180000  \n13728       569.0            460.0       386.6          493.360000  \n13729       565.9            520.0       428.9          528.206667  \n\n[13730 rows x 7 columns]",
      "text/html": "<div>\n<style scoped>\n    .dataframe tbody tr th:only-of-type {\n        vertical-align: middle;\n    }\n\n    .dataframe tbody tr th {\n        vertical-align: top;\n    }\n\n    .dataframe thead th {\n        text-align: right;\n    }\n</style>\n<table border=\"1\" class=\"dataframe\">\n  <thead>\n    <tr style=\"text-align: right;\">\n      <th></th>\n      <th>NU_INSCRICAO</th>\n      <th>NU_NOTA_CN</th>\n      <th>NU_NOTA_CH</th>\n      <th>NU_NOTA_LC</th>\n      <th>NU_NOTA_REDACAO</th>\n      <th>NU_NOTA_MT</th>\n      <th>NU_MEDIA_PONDERADA</th>\n    </tr>\n  </thead>\n  <tbody>\n    <tr>\n      <th>0</th>\n      <td>ed50e8aaa58e7a806c337585efee9ca41f1eb1ad</td>\n      <td>436.3</td>\n      <td>495.4</td>\n      <td>581.2</td>\n      <td>520.0</td>\n      <td>399.4</td>\n      <td>506.640000</td>\n    </tr>\n    <tr>\n      <th>1</th>\n      <td>2c3acac4b33ec2b195d77e7c04a2d75727fad723</td>\n      <td>474.5</td>\n      <td>544.1</td>\n      <td>599.0</td>\n      <td>580.0</td>\n      <td>459.8</td>\n      <td>550.880000</td>\n    </tr>\n    <tr>\n      <th>2</th>\n      <td>f4545f8ccb9ff5c8aad7d32951b3f251a26e6568</td>\n      <td>0.0</td>\n      <td>0.0</td>\n      <td>0.0</td>\n      <td>0.0</td>\n      <td>0.0</td>\n      <td>0.000000</td>\n    </tr>\n    <tr>\n      <th>3</th>\n      <td>3d6ec248fef899c414e77f82d5c6d2bffbeaf7fe</td>\n      <td>0.0</td>\n      <td>0.0</td>\n      <td>0.0</td>\n      <td>0.0</td>\n      <td>0.0</td>\n      <td>0.000000</td>\n    </tr>\n    <tr>\n      <th>4</th>\n      <td>bf896ac8d3ecadd6dba1dfbf50110afcbf5d3268</td>\n      <td>0.0</td>\n      <td>0.0</td>\n      <td>0.0</td>\n      <td>0.0</td>\n      <td>0.0</td>\n      <td>0.000000</td>\n    </tr>\n    <tr>\n      <th>...</th>\n      <td>...</td>\n      <td>...</td>\n      <td>...</td>\n      <td>...</td>\n      <td>...</td>\n      <td>...</td>\n      <td>...</td>\n    </tr>\n    <tr>\n      <th>13725</th>\n      <td>aadf671ef8c1c6efa42e69432093ab83c17a52ac</td>\n      <td>438.2</td>\n      <td>419.7</td>\n      <td>394.5</td>\n      <td>440.0</td>\n      <td>403.2</td>\n      <td>427.713333</td>\n    </tr>\n    <tr>\n      <th>13726</th>\n      <td>461f7ef2753d9d5fa0b054930d6b0e0eec318e81</td>\n      <td>423.8</td>\n      <td>557.9</td>\n      <td>533.0</td>\n      <td>560.0</td>\n      <td>452.4</td>\n      <td>518.000000</td>\n    </tr>\n    <tr>\n      <th>13727</th>\n      <td>5354503700ecf2388f68990435390b6e1ad454ee</td>\n      <td>460.5</td>\n      <td>528.9</td>\n      <td>569.3</td>\n      <td>600.0</td>\n      <td>398.0</td>\n      <td>547.180000</td>\n    </tr>\n    <tr>\n      <th>13728</th>\n      <td>c7a9e94a42bd76b7978f13c013a61702e36cc42c</td>\n      <td>422.5</td>\n      <td>621.7</td>\n      <td>569.0</td>\n      <td>460.0</td>\n      <td>386.6</td>\n      <td>493.360000</td>\n    </tr>\n    <tr>\n      <th>13729</th>\n      <td>0af8939c470a600b30bdaa80375ee0db848b0e35</td>\n      <td>488.7</td>\n      <td>575.3</td>\n      <td>565.9</td>\n      <td>520.0</td>\n      <td>428.9</td>\n      <td>528.206667</td>\n    </tr>\n  </tbody>\n</table>\n<p>13730 rows × 7 columns</p>\n</div>"
     },
     "metadata": {},
     "output_type": "execute_result",
     "execution_count": 10
    }
   ],
   "source": [
    "df_enem"
   ],
   "metadata": {
    "collapsed": false,
    "pycharm": {
     "name": "#%%\n",
     "is_executing": false
    }
   }
  },
  {
   "cell_type": "code",
   "execution_count": 32,
   "outputs": [],
   "source": [
    "import numpy as np\n",
    "from sklearn.model_selection import train_test_split\n",
    "from sklearn.model_selection import cross_validate\n",
    "from sklearn.model_selection import KFold\n",
    "from sklearn.tree import DecisionTreeClassifier\n",
    "from sklearn.svm import LinearSVC\n",
    "from sklearn.metrics import accuracy_score\n",
    "from sklearn import preprocessing\n",
    "from sklearn import utils"
   ],
   "metadata": {
    "collapsed": false,
    "pycharm": {
     "name": "#%%\n",
     "is_executing": false
    }
   }
  },
  {
   "cell_type": "code",
   "execution_count": 33,
   "outputs": [],
   "source": [
    "x = df_enem[['NU_NOTA_CN', 'NU_NOTA_CH', 'NU_NOTA_LC', 'NU_NOTA_REDACAO','NU_MEDIA_PONDERADA']].values\n",
    "y = df_enem['NU_NOTA_MT'].values"
   ],
   "metadata": {
    "collapsed": false,
    "pycharm": {
     "name": "#%%\n",
     "is_executing": false
    }
   }
  },
  {
   "cell_type": "code",
   "execution_count": 34,
   "outputs": [],
   "source": [
    "def imprime_resultados(resultados):\n",
    "    media = resultados['test_score'].mean()\n",
    "    desvio_padrao = resultados['test_score'].std()\n",
    "    print(\"Acurácia com cross validation = [%.2f, %.2f]\" % ((media - 2 * desvio_padrao)*100, media + 2 * desvio_padrao)*100)\n",
    "    print(utils.multiclass.type_of_target(y))\n",
    "    print(utils.multiclass.type_of_target(y.astype('int')))\n",
    "    print(utils.multiclass.type_of_target(training_scores_encoded))"
   ],
   "metadata": {
    "collapsed": false,
    "pycharm": {
     "name": "#%%\n",
     "is_executing": false
    }
   }
  },
  {
   "cell_type": "code",
   "source": [
    "SEED = 158020\n",
    "np.random.seed(SEED)"
   ],
   "metadata": {
    "collapsed": false,
    "pycharm": {
     "name": "#%%\n",
     "is_executing": false
    }
   },
   "execution_count": 27,
   "outputs": []
  },
  {
   "cell_type": "code",
   "execution_count": 28,
   "outputs": [],
   "source": [
    "cv = KFold(n_splits=10)\n",
    "modelo = DecisionTreeClassifier(random_state=1986, criterion='gini', max_depth=3)\n",
    "lab_enc = preprocessing.LabelEncoder()\n",
    "training_scores_encoded = lab_enc.fit_transform(y)"
   ],
   "metadata": {
    "collapsed": false,
    "pycharm": {
     "name": "#%%\n",
     "is_executing": false
    }
   }
  },
  {
   "cell_type": "code",
   "execution_count": 30,
   "outputs": [
    {
     "name": "stdout",
     "text": [
      "Acurácia com cross validation = [nan, nan]Acurácia com cross validation = [nan, nan]Acurácia com cross validation = [nan, nan]Acurácia com cross validation = [nan, nan]Acurácia com cross validation = [nan, nan]Acurácia com cross validation = [nan, nan]Acurácia com cross validation = [nan, nan]Acurácia com cross validation = [nan, nan]Acurácia com cross validation = [nan, nan]Acurácia com cross validation = [nan, nan]Acurácia com cross validation = [nan, nan]Acurácia com cross validation = [nan, nan]Acurácia com cross validation = [nan, nan]Acurácia com cross validation = [nan, nan]Acurácia com cross validation = [nan, nan]Acurácia com cross validation = [nan, nan]Acurácia com cross validation = [nan, nan]Acurácia com cross validation = [nan, nan]Acurácia com cross validation = [nan, nan]Acurácia com cross validation = [nan, nan]Acurácia com cross validation = [nan, nan]Acurácia com cross validation = [nan, nan]Acurácia com cross validation = [nan, nan]Acurácia com cross validation = [nan, nan]Acurácia com cross validation = [nan, nan]Acurácia com cross validation = [nan, nan]Acurácia com cross validation = [nan, nan]Acurácia com cross validation = [nan, nan]Acurácia com cross validation = [nan, nan]Acurácia com cross validation = [nan, nan]Acurácia com cross validation = [nan, nan]Acurácia com cross validation = [nan, nan]Acurácia com cross validation = [nan, nan]Acurácia com cross validation = [nan, nan]Acurácia com cross validation = [nan, nan]Acurácia com cross validation = [nan, nan]Acurácia com cross validation = [nan, nan]Acurácia com cross validation = [nan, nan]Acurácia com cross validation = [nan, nan]Acurácia com cross validation = [nan, nan]Acurácia com cross validation = [nan, nan]Acurácia com cross validation = [nan, nan]Acurácia com cross validation = [nan, nan]Acurácia com cross validation = [nan, nan]Acurácia com cross validation = [nan, nan]Acurácia com cross validation = [nan, nan]Acurácia com cross validation = [nan, nan]Acurácia com cross validation = [nan, nan]Acurácia com cross validation = [nan, nan]Acurácia com cross validation = [nan, nan]Acurácia com cross validation = [nan, nan]Acurácia com cross validation = [nan, nan]Acurácia com cross validation = [nan, nan]Acurácia com cross validation = [nan, nan]Acurácia com cross validation = [nan, nan]Acurácia com cross validation = [nan, nan]Acurácia com cross validation = [nan, nan]Acurácia com cross validation = [nan, nan]Acurácia com cross validation = [nan, nan]Acurácia com cross validation = [nan, nan]Acurácia com cross validation = [nan, nan]Acurácia com cross validation = [nan, nan]Acurácia com cross validation = [nan, nan]Acurácia com cross validation = [nan, nan]Acurácia com cross validation = [nan, nan]Acurácia com cross validation = [nan, nan]Acurácia com cross validation = [nan, nan]Acurácia com cross validation = [nan, nan]Acurácia com cross validation = [nan, nan]Acurácia com cross validation = [nan, nan]Acurácia com cross validation = [nan, nan]Acurácia com cross validation = [nan, nan]Acurácia com cross validation = [nan, nan]Acurácia com cross validation = [nan, nan]Acurácia com cross validation = [nan, nan]Acurácia com cross validation = [nan, nan]Acurácia com cross validation = [nan, nan]Acurácia com cross validation = [nan, nan]Acurácia com cross validation = [nan, nan]Acurácia com cross validation = [nan, nan]Acurácia com cross validation = [nan, nan]Acurácia com cross validation = [nan, nan]Acurácia com cross validation = [nan, nan]Acurácia com cross validation = [nan, nan]Acurácia com cross validation = [nan, nan]Acurácia com cross validation = [nan, nan]Acurácia com cross validation = [nan, nan]Acurácia com cross validation = [nan, nan]Acurácia com cross validation = [nan, nan]Acurácia com cross validation = [nan, nan]Acurácia com cross validation = [nan, nan]Acurácia com cross validation = [nan, nan]Acurácia com cross validation = [nan, nan]Acurácia com cross validation = [nan, nan]Acurácia com cross validation = [nan, nan]Acurácia com cross validation = [nan, nan]Acurácia com cross validation = [nan, nan]Acurácia com cross validation = [nan, nan]Acurácia com cross validation = [nan, nan]Acurácia com cross validation = [nan, nan]\n",
      "continuous\n",
      "multiclass\n",
      "multiclass\n"
     ],
     "output_type": "stream"
    },
    {
     "name": "stderr",
     "text": [
      "/home/washington/.virtualenvs/surtur/lib/python3.6/site-packages/sklearn/model_selection/_validation.py:536: FitFailedWarning: Estimator fit failed. The score on this train-test partition for these parameters will be set to nan. Details: \n",
      "ValueError: Unknown label type: 'continuous'\n",
      "\n",
      "  FitFailedWarning)\n",
      "/home/washington/.virtualenvs/surtur/lib/python3.6/site-packages/sklearn/model_selection/_validation.py:536: FitFailedWarning: Estimator fit failed. The score on this train-test partition for these parameters will be set to nan. Details: \n",
      "ValueError: Unknown label type: 'continuous'\n",
      "\n",
      "  FitFailedWarning)\n",
      "/home/washington/.virtualenvs/surtur/lib/python3.6/site-packages/sklearn/model_selection/_validation.py:536: FitFailedWarning: Estimator fit failed. The score on this train-test partition for these parameters will be set to nan. Details: \n",
      "ValueError: Unknown label type: 'continuous'\n",
      "\n",
      "  FitFailedWarning)\n",
      "/home/washington/.virtualenvs/surtur/lib/python3.6/site-packages/sklearn/model_selection/_validation.py:536: FitFailedWarning: Estimator fit failed. The score on this train-test partition for these parameters will be set to nan. Details: \n",
      "ValueError: Unknown label type: 'continuous'\n",
      "\n",
      "  FitFailedWarning)\n",
      "/home/washington/.virtualenvs/surtur/lib/python3.6/site-packages/sklearn/model_selection/_validation.py:536: FitFailedWarning: Estimator fit failed. The score on this train-test partition for these parameters will be set to nan. Details: \n",
      "ValueError: Unknown label type: 'continuous'\n",
      "\n",
      "  FitFailedWarning)\n",
      "/home/washington/.virtualenvs/surtur/lib/python3.6/site-packages/sklearn/model_selection/_validation.py:536: FitFailedWarning: Estimator fit failed. The score on this train-test partition for these parameters will be set to nan. Details: \n",
      "ValueError: Unknown label type: 'continuous'\n",
      "\n",
      "  FitFailedWarning)\n",
      "/home/washington/.virtualenvs/surtur/lib/python3.6/site-packages/sklearn/model_selection/_validation.py:536: FitFailedWarning: Estimator fit failed. The score on this train-test partition for these parameters will be set to nan. Details: \n",
      "ValueError: Unknown label type: 'continuous'\n",
      "\n",
      "  FitFailedWarning)\n",
      "/home/washington/.virtualenvs/surtur/lib/python3.6/site-packages/sklearn/model_selection/_validation.py:536: FitFailedWarning: Estimator fit failed. The score on this train-test partition for these parameters will be set to nan. Details: \n",
      "ValueError: Unknown label type: 'continuous'\n",
      "\n",
      "  FitFailedWarning)\n",
      "/home/washington/.virtualenvs/surtur/lib/python3.6/site-packages/sklearn/model_selection/_validation.py:536: FitFailedWarning: Estimator fit failed. The score on this train-test partition for these parameters will be set to nan. Details: \n",
      "ValueError: Unknown label type: 'continuous'\n",
      "\n",
      "  FitFailedWarning)\n",
      "/home/washington/.virtualenvs/surtur/lib/python3.6/site-packages/sklearn/model_selection/_validation.py:536: FitFailedWarning: Estimator fit failed. The score on this train-test partition for these parameters will be set to nan. Details: \n",
      "ValueError: Unknown label type: 'continuous'\n",
      "\n",
      "  FitFailedWarning)\n"
     ],
     "output_type": "stream"
    }
   ],
   "source": [
    "resultados = cross_validate(modelo, x, y, cv = cv, return_train_score=False)\n",
    "imprime_resultados(resultados)\n",
    "\n"
   ],
   "metadata": {
    "collapsed": false,
    "pycharm": {
     "name": "#%%\n",
     "is_executing": false
    }
   }
  }
 ],
 "metadata": {
  "kernelspec": {
   "display_name": "Python 3",
   "language": "python",
   "name": "python3"
  },
  "language_info": {
   "codemirror_mode": {
    "name": "ipython",
    "version": 3
   },
   "file_extension": ".py",
   "mimetype": "text/x-python",
   "name": "python",
   "nbconvert_exporter": "python",
   "pygments_lexer": "ipython3",
   "version": "3.6.9"
  }
 },
 "nbformat": 4,
 "nbformat_minor": 4
}