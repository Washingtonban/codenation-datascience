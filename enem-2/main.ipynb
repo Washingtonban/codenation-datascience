{
 "cells": [
  {
   "cell_type": "code",
   "execution_count": 226,
   "metadata": {},
   "outputs": [],
   "source": [
    "import pandas as pd\n",
    "import numpy as np\n",
    "\n",
    "from sklearn.ensemble import RandomForestRegressor\n",
    "from sklearn.linear_model import LinearRegression"
   ]
  },
  {
   "cell_type": "markdown",
   "metadata": {
    "pycharm": {
     "name": "#%% md\n"
    }
   },
   "source": [
    "# Desafio Enem-2 CODENATION - Data Science"
   ]
  },
  {
   "cell_type": "markdown",
   "source": [
    "## Data Analitcs"
   ],
   "metadata": {
    "collapsed": false,
    "pycharm": {
     "name": "#%% md\n"
    }
   }
  },
  {
   "cell_type": "code",
   "execution_count": 206,
   "outputs": [],
   "source": [
    "df = pd.read_csv(\"./data/train.csv\")\n",
    "df_test = pd.read_csv(\"./data/test.csv\")"
   ],
   "metadata": {
    "collapsed": false,
    "pycharm": {
     "name": "#%%\n"
    }
   }
  },
  {
   "cell_type": "code",
   "execution_count": 4,
   "metadata": {
    "pycharm": {
     "name": "#%%\n"
    }
   },
   "outputs": [],
   "source": [
    "df.drop(columns=['Unnamed: 0'], inplace=True)"
   ]
  },
  {
   "cell_type": "code",
   "execution_count": 5,
   "outputs": [],
   "source": [
    "colunas = list(df.columns.values)"
   ],
   "metadata": {
    "collapsed": false,
    "pycharm": {
     "name": "#%%\n"
    }
   }
  },
  {
   "cell_type": "code",
   "execution_count": 6,
   "outputs": [
    {
     "data": {
      "text/plain": "(13730, 166)"
     },
     "execution_count": 6,
     "metadata": {},
     "output_type": "execute_result"
    }
   ],
   "source": [
    "df.shape"
   ],
   "metadata": {
    "collapsed": false,
    "pycharm": {
     "name": "#%%\n"
    }
   }
  },
  {
   "cell_type": "code",
   "execution_count": 39,
   "outputs": [
    {
     "name": "stdout",
     "output_type": "stream",
     "text": [
      "Exitem 253786 dados nulos no data frame 'df'\n"
     ]
    }
   ],
   "source": [
    "df.isna().sum().sum()\n",
    "print(f\"Exitem {df.isna().sum().sum()} dados nulos no data frame 'df'\")"
   ],
   "metadata": {
    "collapsed": false,
    "pycharm": {
     "name": "#%%\n"
    }
   }
  },
  {
   "cell_type": "code",
   "execution_count": null,
   "outputs": [],
   "source": [
    "null_count = df.isna().sum().to_frame()\n",
    "null_count = null_count.rename(columns={0: \"null_count_column\"})"
   ],
   "metadata": {
    "collapsed": false,
    "pycharm": {
     "name": "#%%\n"
    }
   }
  },
  {
   "cell_type": "markdown",
   "source": [
    "## Data processing"
   ],
   "metadata": {
    "collapsed": false,
    "pycharm": {
     "name": "#%% md\n"
    }
   }
  },
  {
   "cell_type": "markdown",
   "source": [
    "### tratando NaN para treino"
   ],
   "metadata": {
    "collapsed": false
   }
  },
  {
   "cell_type": "code",
   "execution_count": 187,
   "outputs": [],
   "source": [
    "df_enem = df[['NU_INSCRICAO', 'NU_NOTA_CN', 'NU_NOTA_CH', 'NU_NOTA_LC', 'NU_NOTA_MT']]"
   ],
   "metadata": {
    "collapsed": false,
    "pycharm": {
     "name": "#%%\n"
    }
   }
  },
  {
   "cell_type": "code",
   "execution_count": 188,
   "outputs": [],
   "source": [
    "df_enem_null_count = df_enem.isna().sum().to_frame().reset_index().rename(columns={'index': \"coluna\" , 0: \"null_count_column\"})"
   ],
   "metadata": {
    "collapsed": false,
    "pycharm": {
     "name": "#%%\n"
    }
   }
  },
  {
   "cell_type": "code",
   "execution_count": 189,
   "outputs": [],
   "source": [
    "total = df.shape[0]"
   ],
   "metadata": {
    "collapsed": false,
    "pycharm": {
     "name": "#%%\n"
    }
   }
  },
  {
   "cell_type": "code",
   "execution_count": 190,
   "outputs": [
    {
     "name": "stdout",
     "output_type": "stream",
     "text": [
      "NU_INSCRICAO tem 0.00% de itens nulos\n",
      "NU_NOTA_CN tem 24.68% de itens nulos\n",
      "NU_NOTA_CH tem 24.68% de itens nulos\n",
      "NU_NOTA_LC tem 26.20% de itens nulos\n",
      "NU_NOTA_MT tem 26.20% de itens nulos\n"
     ]
    }
   ],
   "source": [
    "for row in range(len(df_enem_null_count)):\n",
    "    linha = df_enem_null_count.null_count_column[row]\n",
    "    percentual = linha / total\n",
    "    print(f'{df_enem_null_count.coluna[row]} tem {(percentual * 100):.2f}% de itens nulos')"
   ],
   "metadata": {
    "collapsed": false,
    "pycharm": {
     "name": "#%%\n"
    }
   }
  },
  {
   "cell_type": "code",
   "execution_count": 191,
   "outputs": [
    {
     "name": "stderr",
     "output_type": "stream",
     "text": [
      "/home/washington/anaconda3/envs/enem-2/lib/python3.7/site-packages/pandas/core/frame.py:4153: SettingWithCopyWarning: \n",
      "A value is trying to be set on a copy of a slice from a DataFrame\n",
      "\n",
      "See the caveats in the documentation: https://pandas.pydata.org/pandas-docs/stable/user_guide/indexing.html#returning-a-view-versus-a-copy\n",
      "  downcast=downcast,\n"
     ]
    }
   ],
   "source": [
    "df_enem.fillna(int(-1), inplace=True)"
   ],
   "metadata": {
    "collapsed": false,
    "pycharm": {
     "name": "#%%\n"
    }
   }
  },
  {
   "cell_type": "code",
   "execution_count": 192,
   "outputs": [
    {
     "name": "stderr",
     "output_type": "stream",
     "text": [
      "/home/washington/anaconda3/envs/enem-2/lib/python3.7/site-packages/ipykernel_launcher.py:5: SettingWithCopyWarning: \n",
      "A value is trying to be set on a copy of a slice from a DataFrame\n",
      "\n",
      "See the caveats in the documentation: https://pandas.pydata.org/pandas-docs/stable/user_guide/indexing.html#returning-a-view-versus-a-copy\n",
      "  \"\"\"\n",
      "/home/washington/anaconda3/envs/enem-2/lib/python3.7/site-packages/IPython/core/interactiveshell.py:2963: SettingWithCopyWarning: \n",
      "A value is trying to be set on a copy of a slice from a DataFrame\n",
      "\n",
      "See the caveats in the documentation: https://pandas.pydata.org/pandas-docs/stable/user_guide/indexing.html#returning-a-view-versus-a-copy\n",
      "  exec(code_obj, self.user_global_ns, self.user_ns)\n"
     ]
    }
   ],
   "source": [
    "nu_notas = ['NU_NOTA_CN', 'NU_NOTA_CH', 'NU_NOTA_LC', 'NU_NOTA_MT']\n",
    "for nu_nota in nu_notas:\n",
    "    for row in range(len(df_enem)):\n",
    "        if df_enem[nu_nota][row] == -1:\n",
    "            df_enem[nu_nota][row] = df_enem.NU_NOTA_CH[(row - 3):(row + 3)].mean()"
   ],
   "metadata": {
    "collapsed": false,
    "pycharm": {
     "name": "#%%\n"
    }
   }
  },
  {
   "cell_type": "code",
   "execution_count": 193,
   "outputs": [
    {
     "name": "stderr",
     "output_type": "stream",
     "text": [
      "/home/washington/anaconda3/envs/enem-2/lib/python3.7/site-packages/pandas/core/generic.py:6245: SettingWithCopyWarning: \n",
      "A value is trying to be set on a copy of a slice from a DataFrame\n",
      "\n",
      "See the caveats in the documentation: https://pandas.pydata.org/pandas-docs/stable/user_guide/indexing.html#returning-a-view-versus-a-copy\n",
      "  self._update_inplace(new_data)\n"
     ]
    }
   ],
   "source": [
    "for nu_nota in nu_notas:\n",
    "    df_enem[nu_nota].fillna(df_enem.NU_NOTA_CN.mean(), inplace=True)"
   ],
   "metadata": {
    "collapsed": false,
    "pycharm": {
     "name": "#%%\n"
    }
   }
  },
  {
   "cell_type": "code",
   "execution_count": 194,
   "outputs": [
    {
     "data": {
      "text/plain": "NU_INSCRICAO    0\nNU_NOTA_CN      0\nNU_NOTA_CH      0\nNU_NOTA_LC      0\nNU_NOTA_MT      0\ndtype: int64"
     },
     "execution_count": 194,
     "metadata": {},
     "output_type": "execute_result"
    }
   ],
   "source": [
    "df_enem.isna().sum()"
   ],
   "metadata": {
    "collapsed": false,
    "pycharm": {
     "name": "#%%\n"
    }
   }
  },
  {
   "cell_type": "markdown",
   "source": [
    "### tratando NaN para teste"
   ],
   "metadata": {
    "collapsed": false
   }
  },
  {
   "cell_type": "code",
   "execution_count": 179,
   "outputs": [],
   "source": [
    "df_enem_test = df_test[['NU_INSCRICAO', 'NU_NOTA_CN', 'NU_NOTA_CH', 'NU_NOTA_LC']]"
   ],
   "metadata": {
    "collapsed": false,
    "pycharm": {
     "name": "#%%\n"
    }
   }
  },
  {
   "cell_type": "code",
   "execution_count": 180,
   "outputs": [
    {
     "data": {
      "text/plain": "         coluna  null_count_column\n0  NU_INSCRICAO                  0\n1    NU_NOTA_CN               1134\n2    NU_NOTA_CH               1134\n3    NU_NOTA_LC               1199",
      "text/html": "<div>\n<style scoped>\n    .dataframe tbody tr th:only-of-type {\n        vertical-align: middle;\n    }\n\n    .dataframe tbody tr th {\n        vertical-align: top;\n    }\n\n    .dataframe thead th {\n        text-align: right;\n    }\n</style>\n<table border=\"1\" class=\"dataframe\">\n  <thead>\n    <tr style=\"text-align: right;\">\n      <th></th>\n      <th>coluna</th>\n      <th>null_count_column</th>\n    </tr>\n  </thead>\n  <tbody>\n    <tr>\n      <th>0</th>\n      <td>NU_INSCRICAO</td>\n      <td>0</td>\n    </tr>\n    <tr>\n      <th>1</th>\n      <td>NU_NOTA_CN</td>\n      <td>1134</td>\n    </tr>\n    <tr>\n      <th>2</th>\n      <td>NU_NOTA_CH</td>\n      <td>1134</td>\n    </tr>\n    <tr>\n      <th>3</th>\n      <td>NU_NOTA_LC</td>\n      <td>1199</td>\n    </tr>\n  </tbody>\n</table>\n</div>"
     },
     "execution_count": 180,
     "metadata": {},
     "output_type": "execute_result"
    }
   ],
   "source": [
    "df_enem_test_null_count = df_enem_test.isna().sum().to_frame().reset_index().rename(columns={'index': \"coluna\" ,\n",
    "                                                                                             0: \"null_count_column\"})\n",
    "df_enem_test_null_count"
   ],
   "metadata": {
    "collapsed": false,
    "pycharm": {
     "name": "#%%\n"
    }
   }
  },
  {
   "cell_type": "code",
   "execution_count": 181,
   "outputs": [],
   "source": [
    "total_test = df.shape[0]"
   ],
   "metadata": {
    "collapsed": false,
    "pycharm": {
     "name": "#%%\n"
    }
   }
  },
  {
   "cell_type": "code",
   "execution_count": 182,
   "outputs": [
    {
     "name": "stdout",
     "output_type": "stream",
     "text": [
      "NU_INSCRICAO tem 0.00% de itens nulos\n",
      "NU_NOTA_CN tem 8.26% de itens nulos\n",
      "NU_NOTA_CH tem 8.26% de itens nulos\n",
      "NU_NOTA_LC tem 8.73% de itens nulos\n"
     ]
    }
   ],
   "source": [
    "for row in range(len(df_enem_test_null_count)):\n",
    "    linha = df_enem_test_null_count.null_count_column[row]\n",
    "    percentual = linha / total_test\n",
    "    print(f'{df_enem_test_null_count.coluna[row]} tem {(percentual * 100):.2f}% de itens nulos')"
   ],
   "metadata": {
    "collapsed": false,
    "pycharm": {
     "name": "#%%\n"
    }
   }
  },
  {
   "cell_type": "code",
   "execution_count": 183,
   "outputs": [
    {
     "name": "stderr",
     "output_type": "stream",
     "text": [
      "/home/washington/anaconda3/envs/enem-2/lib/python3.7/site-packages/pandas/core/frame.py:4153: SettingWithCopyWarning: \n",
      "A value is trying to be set on a copy of a slice from a DataFrame\n",
      "\n",
      "See the caveats in the documentation: https://pandas.pydata.org/pandas-docs/stable/user_guide/indexing.html#returning-a-view-versus-a-copy\n",
      "  downcast=downcast,\n"
     ]
    }
   ],
   "source": [
    "df_enem_test.fillna(int(-1), inplace=True)"
   ],
   "metadata": {
    "collapsed": false,
    "pycharm": {
     "name": "#%%\n"
    }
   }
  },
  {
   "cell_type": "code",
   "execution_count": 184,
   "outputs": [],
   "source": [
    "nu_notas = ['NU_NOTA_CN', 'NU_NOTA_CH', 'NU_NOTA_LC']\n",
    "for nu_nota in nu_notas:\n",
    "    for row in range(len(df_enem)):\n",
    "        if df_enem[nu_nota][row] == -1:\n",
    "            df_enem[nu_nota][row] = df_enem_test.NU_NOTA_CH[(row - 3):(row + 3)].mean()"
   ],
   "metadata": {
    "collapsed": false,
    "pycharm": {
     "name": "#%%\n"
    }
   }
  },
  {
   "cell_type": "code",
   "execution_count": 186,
   "outputs": [
    {
     "data": {
      "text/plain": "NU_INSCRICAO    0\nNU_NOTA_CN      0\nNU_NOTA_CH      0\nNU_NOTA_LC      0\ndtype: int64"
     },
     "execution_count": 186,
     "metadata": {},
     "output_type": "execute_result"
    }
   ],
   "source": [
    "df_enem_test.isna().sum()\n"
   ],
   "metadata": {
    "collapsed": false,
    "pycharm": {
     "name": "#%%\n"
    }
   }
  },
  {
   "cell_type": "markdown",
   "source": [
    "## aplicando metodo LinearRegression"
   ],
   "metadata": {
    "collapsed": false,
    "pycharm": {
     "name": "#%% md\n"
    }
   }
  },
  {
   "cell_type": "code",
   "execution_count": 202,
   "outputs": [],
   "source": [
    "x_train = df_enem[['NU_NOTA_CN', 'NU_NOTA_CH', 'NU_NOTA_LC']]\n",
    "y_train = df_enem[['NU_NOTA_MT']]\n",
    "x_test = df_enem_test[['NU_NOTA_CN', 'NU_NOTA_CH', 'NU_NOTA_LC']]"
   ],
   "metadata": {
    "collapsed": false,
    "pycharm": {
     "name": "#%%\n"
    }
   }
  },
  {
   "cell_type": "code",
   "execution_count": 199,
   "outputs": [],
   "source": [
    "model = LinearRegression()\n"
   ],
   "metadata": {
    "collapsed": false,
    "pycharm": {
     "name": "#%%\n"
    }
   }
  },
  {
   "cell_type": "code",
   "execution_count": 201,
   "outputs": [
    {
     "data": {
      "text/plain": "LinearRegression()"
     },
     "execution_count": 201,
     "metadata": {},
     "output_type": "execute_result"
    }
   ],
   "source": [
    "model.fit(x_train, y_train)"
   ],
   "metadata": {
    "collapsed": false,
    "pycharm": {
     "name": "#%%\n"
    }
   }
  },
  {
   "cell_type": "code",
   "execution_count": 204,
   "outputs": [],
   "source": [
    "y_test = model.predict(x_test)"
   ],
   "metadata": {
    "collapsed": false,
    "pycharm": {
     "name": "#%%\n"
    }
   }
  },
  {
   "cell_type": "code",
   "execution_count": 219,
   "outputs": [
    {
     "data": {
      "text/plain": "array([[453.38557677],\n       [485.65967028],\n       [575.58190489],\n       ...,\n       [583.46728554],\n       [495.20091784],\n       [113.93882688]])"
     },
     "execution_count": 219,
     "metadata": {},
     "output_type": "execute_result"
    }
   ],
   "source": [
    "y_test"
   ],
   "metadata": {
    "collapsed": false,
    "pycharm": {
     "name": "#%%\n"
    }
   }
  },
  {
   "cell_type": "code",
   "execution_count": 213,
   "outputs": [],
   "source": [
    "answer = pd.DataFrame()\n",
    "answer['NU_INSCRICAO'] =  df_enem_test.NU_INSCRICAO\n",
    "answer['NU_NOTA_MT'] =  y_test"
   ],
   "metadata": {
    "collapsed": false,
    "pycharm": {
     "name": "#%%\n"
    }
   }
  },
  {
   "cell_type": "markdown",
   "source": [
    "## aplicando metodo modelRandomForest"
   ],
   "metadata": {
    "collapsed": false,
    "pycharm": {
     "name": "#%% md\n"
    }
   }
  },
  {
   "cell_type": "code",
   "execution_count": 227,
   "outputs": [],
   "source": [
    "modelRF = RandomForestRegressor()"
   ],
   "metadata": {
    "collapsed": false,
    "pycharm": {
     "name": "#%%\n"
    }
   }
  },
  {
   "cell_type": "code",
   "execution_count": 228,
   "outputs": [
    {
     "name": "stderr",
     "output_type": "stream",
     "text": [
      "/home/washington/anaconda3/envs/enem-2/lib/python3.7/site-packages/ipykernel_launcher.py:2: DataConversionWarning: A column-vector y was passed when a 1d array was expected. Please change the shape of y to (n_samples,), for example using ravel().\n",
      "  \n"
     ]
    },
    {
     "data": {
      "text/plain": "RandomForestRegressor()"
     },
     "execution_count": 228,
     "metadata": {},
     "output_type": "execute_result"
    }
   ],
   "source": [
    "modelRF.fit(x_train, y_train)"
   ],
   "metadata": {
    "collapsed": false,
    "pycharm": {
     "name": "#%%\n"
    }
   }
  },
  {
   "cell_type": "code",
   "execution_count": 229,
   "outputs": [],
   "source": [
    "y_test_RF = modelRF.predict(x_test)"
   ],
   "metadata": {
    "collapsed": false,
    "pycharm": {
     "name": "#%%\n"
    }
   }
  },
  {
   "cell_type": "code",
   "execution_count": 230,
   "outputs": [
    {
     "data": {
      "text/plain": "array([417.854     , 443.548     , 595.381     , ..., 662.551     ,\n       469.55108256,  55.42153296])"
     },
     "execution_count": 230,
     "metadata": {},
     "output_type": "execute_result"
    }
   ],
   "source": [
    "y_test_RF"
   ],
   "metadata": {
    "collapsed": false,
    "pycharm": {
     "name": "#%%\n"
    }
   }
  },
  {
   "cell_type": "code",
   "execution_count": 236,
   "outputs": [],
   "source": [
    "answerRF = pd.DataFrame()\n",
    "answerRF['NU_INSCRICAO'] =  df_enem_test.NU_INSCRICAO\n",
    "answerRF['NU_NOTA_MT'] =  y_test_RF"
   ],
   "metadata": {
    "collapsed": false,
    "pycharm": {
     "name": "#%%\n"
    }
   }
  },
  {
   "cell_type": "code",
   "execution_count": 240,
   "outputs": [],
   "source": [
    "answerRF.to_csv('answer.csv', index=False)\n"
   ],
   "metadata": {
    "collapsed": false,
    "pycharm": {
     "name": "#%%\n"
    }
   }
  },
  {
   "cell_type": "code",
   "execution_count": 241,
   "outputs": [
    {
     "data": {
      "text/plain": "                                  NU_INSCRICAO  NU_NOTA_MT\n0     73ff9fcc02f0a99919906c942c2e1a1042cdcf98  417.854000\n1     71a95f9f1b91a82c65ad94abbdf9f54e6066f968  443.548000\n2     b38a03232f43b11c9d0788abaf060f7366053b6d  595.381000\n3     70b682d9a3636be23f6120fa9d6b164eb3c6002d   55.421533\n4     715494628a50142ce8cb17191cfe6d0f3cae0934  554.925000\n...                                        ...         ...\n4571  dac0f22429c7f8e3931d0abaf5dfc8e5c772a48b  419.573000\n4572  a75fa8770257e7c9368d059fe53d9ef431f4bdef  495.988778\n4573  655fa6306720ff16e825903b5422a46608a77545  662.551000\n4574  1f4bc3e3d56212d500625bfe8ac78ccff4362293  469.551083\n4575  adf0d15b54317b6564ef56dad2b775bbb0ef50cc   55.421533\n\n[4576 rows x 2 columns]",
      "text/html": "<div>\n<style scoped>\n    .dataframe tbody tr th:only-of-type {\n        vertical-align: middle;\n    }\n\n    .dataframe tbody tr th {\n        vertical-align: top;\n    }\n\n    .dataframe thead th {\n        text-align: right;\n    }\n</style>\n<table border=\"1\" class=\"dataframe\">\n  <thead>\n    <tr style=\"text-align: right;\">\n      <th></th>\n      <th>NU_INSCRICAO</th>\n      <th>NU_NOTA_MT</th>\n    </tr>\n  </thead>\n  <tbody>\n    <tr>\n      <th>0</th>\n      <td>73ff9fcc02f0a99919906c942c2e1a1042cdcf98</td>\n      <td>417.854000</td>\n    </tr>\n    <tr>\n      <th>1</th>\n      <td>71a95f9f1b91a82c65ad94abbdf9f54e6066f968</td>\n      <td>443.548000</td>\n    </tr>\n    <tr>\n      <th>2</th>\n      <td>b38a03232f43b11c9d0788abaf060f7366053b6d</td>\n      <td>595.381000</td>\n    </tr>\n    <tr>\n      <th>3</th>\n      <td>70b682d9a3636be23f6120fa9d6b164eb3c6002d</td>\n      <td>55.421533</td>\n    </tr>\n    <tr>\n      <th>4</th>\n      <td>715494628a50142ce8cb17191cfe6d0f3cae0934</td>\n      <td>554.925000</td>\n    </tr>\n    <tr>\n      <th>...</th>\n      <td>...</td>\n      <td>...</td>\n    </tr>\n    <tr>\n      <th>4571</th>\n      <td>dac0f22429c7f8e3931d0abaf5dfc8e5c772a48b</td>\n      <td>419.573000</td>\n    </tr>\n    <tr>\n      <th>4572</th>\n      <td>a75fa8770257e7c9368d059fe53d9ef431f4bdef</td>\n      <td>495.988778</td>\n    </tr>\n    <tr>\n      <th>4573</th>\n      <td>655fa6306720ff16e825903b5422a46608a77545</td>\n      <td>662.551000</td>\n    </tr>\n    <tr>\n      <th>4574</th>\n      <td>1f4bc3e3d56212d500625bfe8ac78ccff4362293</td>\n      <td>469.551083</td>\n    </tr>\n    <tr>\n      <th>4575</th>\n      <td>adf0d15b54317b6564ef56dad2b775bbb0ef50cc</td>\n      <td>55.421533</td>\n    </tr>\n  </tbody>\n</table>\n<p>4576 rows × 2 columns</p>\n</div>"
     },
     "execution_count": 241,
     "metadata": {},
     "output_type": "execute_result"
    }
   ],
   "source": [
    "pd.read_csv('answer.csv')\n"
   ],
   "metadata": {
    "collapsed": false,
    "pycharm": {
     "name": "#%%\n"
    }
   }
  },
  {
   "cell_type": "code",
   "execution_count": null,
   "outputs": [],
   "source": [
    "\n"
   ],
   "metadata": {
    "collapsed": false,
    "pycharm": {
     "name": "#%%\n"
    }
   }
  }
 ],
 "metadata": {
  "kernelspec": {
   "display_name": "Python 3",
   "language": "python",
   "name": "python3"
  },
  "language_info": {
   "codemirror_mode": {
    "name": "ipython",
    "version": 3
   },
   "file_extension": ".py",
   "mimetype": "text/x-python",
   "name": "python",
   "nbconvert_exporter": "python",
   "pygments_lexer": "ipython3",
   "version": "3.7.7"
  }
 },
 "nbformat": 4,
 "nbformat_minor": 1
}